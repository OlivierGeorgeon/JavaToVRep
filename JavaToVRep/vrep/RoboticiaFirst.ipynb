{
 "cells": [
  {
   "cell_type": "code",
   "execution_count": 1,
   "metadata": {
    "collapsed": true
   },
   "outputs": [],
   "source": [
    "from pypot.vrep import from_vrep"
   ]
  },
  {
   "cell_type": "code",
   "execution_count": 2,
   "metadata": {
    "collapsed": true
   },
   "outputs": [],
   "source": [
    "from pypot.creatures import RoboticiaFirst"
   ]
  },
  {
   "cell_type": "code",
   "execution_count": 3,
   "metadata": {
    "collapsed": false
   },
   "outputs": [],
   "source": [
    "poppy = RoboticiaFirst(simulator='vrep') "
   ]
  },
  {
   "cell_type": "code",
   "execution_count": 4,
   "metadata": {
    "collapsed": true
   },
   "outputs": [],
   "source": [
    "from pypot.server.httpserver import HTTPRobotServer\n",
    "server = HTTPRobotServer(poppy, host='127.0.0.1', port=8080)\n",
    "from threading import Thread\n",
    "Thread(target=lambda: server.run(quiet=True, server='wsgiref')).start()"
   ]
  },
  {
   "cell_type": "code",
   "execution_count": 5,
   "metadata": {
    "collapsed": true
   },
   "outputs": [],
   "source": [
    "from pypot.primitive import Primitive"
   ]
  },
  {
   "cell_type": "code",
   "execution_count": 10,
   "metadata": {
    "collapsed": false
   },
   "outputs": [],
   "source": [
    "class e1(Primitive):\n",
    "    properties = Primitive.properties + ['result']\n",
    "    def __init__(self, robot, result = 1):\n",
    "        Primitive.__init__(self, robot)\n",
    "        self.result = result\n",
    "    def run(self):\n",
    "        self.robot.goto_position({'m1' : 30, 'm2' : -45, 'm3' : -20}, 5, wait=True) \n",
    "        self.result = self.robot.m2.present_load\n",
    "        self.robot.goto_position({'m1' : 0, 'm2' : 0, 'm3' : 0}, 5, wait=True) "
   ]
  },
  {
   "cell_type": "code",
   "execution_count": 11,
   "metadata": {
    "collapsed": false
   },
   "outputs": [],
   "source": [
    "poppy.attach_primitive(e1(poppy), 'e1')"
   ]
  },
  {
   "cell_type": "code",
   "execution_count": 12,
   "metadata": {
    "collapsed": true
   },
   "outputs": [],
   "source": [
    "class e2(Primitive):\n",
    "    properties = Primitive.properties + ['result']\n",
    "    def __init__(self, robot, result = 1):\n",
    "        Primitive.__init__(self, robot)\n",
    "        self.result = result\n",
    "    def run(self):\n",
    "        self.robot.goto_position({'m1' : -30, 'm2' : -45, 'm3' : -20}, 5, wait=True) \n",
    "        self.result = self.robot.m2.present_load\n",
    "        self.robot.goto_position({'m1' : 0, 'm2' : 0, 'm3' : 0}, 5, wait=True) "
   ]
  },
  {
   "cell_type": "code",
   "execution_count": 9,
   "metadata": {
    "collapsed": true
   },
   "outputs": [],
   "source": [
    "poppy.attach_primitive(e2(poppy), 'e2')"
   ]
  }
 ],
 "metadata": {
  "kernelspec": {
   "display_name": "Python 3",
   "language": "python",
   "name": "python3"
  },
  "language_info": {
   "codemirror_mode": {
    "name": "ipython",
    "version": 3
   },
   "file_extension": ".py",
   "mimetype": "text/x-python",
   "name": "python",
   "nbconvert_exporter": "python",
   "pygments_lexer": "ipython3",
   "version": "3.6.0"
  }
 },
 "nbformat": 4,
 "nbformat_minor": 2
}
