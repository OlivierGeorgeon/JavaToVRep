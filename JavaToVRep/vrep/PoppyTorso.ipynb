{
 "cells": [
  {
   "cell_type": "code",
   "execution_count": 1,
   "metadata": {
    "collapsed": true
   },
   "outputs": [],
   "source": [
    "from pypot.vrep import from_vrep"
   ]
  },
  {
   "cell_type": "code",
   "execution_count": 2,
   "metadata": {
    "collapsed": true
   },
   "outputs": [],
   "source": [
    "from pypot.creatures import PoppyTorso"
   ]
  },
  {
   "cell_type": "code",
   "execution_count": 3,
   "metadata": {
    "collapsed": false
   },
   "outputs": [],
   "source": [
    "poppy = PoppyTorso(simulator='vrep') "
   ]
  },
  {
   "cell_type": "code",
   "execution_count": 4,
   "metadata": {
    "collapsed": true
   },
   "outputs": [],
   "source": [
    "from pypot.server.httpserver import HTTPRobotServer"
   ]
  },
  {
   "cell_type": "code",
   "execution_count": 5,
   "metadata": {
    "collapsed": false
   },
   "outputs": [],
   "source": [
    "server = HTTPRobotServer(poppy, host='127.0.0.1', port=8080)"
   ]
  },
  {
   "cell_type": "code",
   "execution_count": 6,
   "metadata": {
    "collapsed": true
   },
   "outputs": [],
   "source": [
    "from threading import Thread"
   ]
  },
  {
   "cell_type": "code",
   "execution_count": 7,
   "metadata": {
    "collapsed": true
   },
   "outputs": [],
   "source": [
    "Thread(target=lambda: server.run(quiet=True, server='wsgiref')).start()"
   ]
  },
  {
   "cell_type": "code",
   "execution_count": 8,
   "metadata": {
    "collapsed": true
   },
   "outputs": [],
   "source": [
    "from pypot.primitive import Primitive"
   ]
  },
  {
   "cell_type": "code",
   "execution_count": 9,
   "metadata": {
    "collapsed": false
   },
   "outputs": [],
   "source": [
    "class e1(Primitive):\n",
    "    properties = Primitive.properties + ['result']\n",
    "    def __init__(self, robot, result = 0):\n",
    "        Primitive.__init__(self, robot)\n",
    "        self.result = result\n",
    "    def run(self):\n",
    "        self.robot.goto_position({'r_elbow_y' : 8, 'head_z' : -20, 'head_y': 20}, 1, wait=True) \n",
    "        self.result = 0\n",
    "        if self.robot.r_elbow_y.present_load < 0:\n",
    "            self.result = 1\n",
    "        if self.robot.r_elbow_y.present_load < -20:\n",
    "            self.result = 2\n",
    "        self.robot.goto_position({'r_elbow_y' : -20}, 1, wait=True) "
   ]
  },
  {
   "cell_type": "code",
   "execution_count": 10,
   "metadata": {
    "collapsed": true
   },
   "outputs": [],
   "source": [
    "poppy.attach_primitive(e1(poppy), 'e1')"
   ]
  },
  {
   "cell_type": "code",
   "execution_count": 11,
   "metadata": {
    "collapsed": false
   },
   "outputs": [],
   "source": [
    "class e2(Primitive):\n",
    "    properties = Primitive.properties + ['result']\n",
    "    def __init__(self, robot, result = 0):\n",
    "        Primitive.__init__(self, robot)\n",
    "        self.result = result\n",
    "    def run(self):\n",
    "        self.robot.goto_position({'l_elbow_y' : 8, 'head_z' : 20, 'head_y': 20}, 1, wait=True) \n",
    "        self.result = 0\n",
    "        if self.robot.l_elbow_y.present_load < 0:\n",
    "            self.result = 1\n",
    "        if self.robot.l_elbow_y.present_load < -20:\n",
    "            self.result = 2\n",
    "        self.robot.goto_position({'l_elbow_y' : -20}, 1, wait=True) "
   ]
  },
  {
   "cell_type": "code",
   "execution_count": 12,
   "metadata": {
    "collapsed": false
   },
   "outputs": [],
   "source": [
    "poppy.attach_primitive(e2(poppy), 'e2')"
   ]
  },
  {
   "cell_type": "code",
   "execution_count": null,
   "metadata": {
    "collapsed": true
   },
   "outputs": [],
   "source": []
  }
 ],
 "metadata": {
  "kernelspec": {
   "display_name": "Python 3",
   "language": "python",
   "name": "python3"
  },
  "language_info": {
   "codemirror_mode": {
    "name": "ipython",
    "version": 3
   },
   "file_extension": ".py",
   "mimetype": "text/x-python",
   "name": "python",
   "nbconvert_exporter": "python",
   "pygments_lexer": "ipython3",
   "version": "3.6.0"
  }
 },
 "nbformat": 4,
 "nbformat_minor": 2
}
