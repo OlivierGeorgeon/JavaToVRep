{
 "cells": [
  {
   "cell_type": "code",
   "execution_count": 1,
   "metadata": {
    "collapsed": true
   },
   "outputs": [],
   "source": [
    "from pypot.vrep import from_vrep"
   ]
  },
  {
   "cell_type": "code",
   "execution_count": 2,
   "metadata": {
    "collapsed": true
   },
   "outputs": [],
   "source": [
    "from pypot.creatures import PoppyTorso"
   ]
  },
  {
   "cell_type": "code",
   "execution_count": 3,
   "metadata": {
    "collapsed": false
   },
   "outputs": [],
   "source": [
    "poppy = PoppyTorso(simulator='vrep') "
   ]
  },
  {
   "cell_type": "code",
   "execution_count": 4,
   "metadata": {
    "collapsed": true
   },
   "outputs": [],
   "source": [
    "from pypot.server.httpserver import HTTPRobotServer"
   ]
  },
  {
   "cell_type": "code",
   "execution_count": 5,
   "metadata": {
    "collapsed": false
   },
   "outputs": [],
   "source": [
    "server = HTTPRobotServer(poppy, host='127.0.0.1', port=8080)"
   ]
  },
  {
   "cell_type": "code",
   "execution_count": 6,
   "metadata": {
    "collapsed": true
   },
   "outputs": [],
   "source": [
    "from threading import Thread"
   ]
  },
  {
   "cell_type": "code",
   "execution_count": 7,
   "metadata": {
    "collapsed": true
   },
   "outputs": [],
   "source": [
    "Thread(target=lambda: server.run(quiet=True, server='wsgiref')).start()"
   ]
  },
  {
   "cell_type": "code",
   "execution_count": 8,
   "metadata": {
    "collapsed": true
   },
   "outputs": [],
   "source": [
    "from pypot.primitive import Primitive"
   ]
  },
  {
   "cell_type": "code",
   "execution_count": 9,
   "metadata": {
    "collapsed": false
   },
   "outputs": [],
   "source": [
    "class e1(Primitive):\n",
    "    properties = Primitive.properties + ['result']\n",
    "    def __init__(self, robot, result = 0):\n",
    "        Primitive.__init__(self, robot)\n",
    "        self.result = result\n",
    "    def run(self):\n",
    "        self.robot.goto_position({'r_arm_z' : -20, 'r_elbow_y' : -10, 'head_z' : -20, 'head_y': 20}, 0.2, wait=True) \n",
    "        self.robot.goto_position({'r_elbow_y' : 8}, 0.2, wait=True) \n",
    "        self.result = 0\n",
    "        if self.robot.r_elbow_y.present_load < 0:\n",
    "            self.result = 1\n",
    "        if self.robot.r_elbow_y.present_load < -15:\n",
    "            self.result = 2\n",
    "        if self.robot.r_elbow_y.present_load < -20:\n",
    "            self.result = 3\n",
    "        self.robot.goto_position({'r_elbow_y' : -20}, 1, wait=True) "
   ]
  },
  {
   "cell_type": "code",
   "execution_count": 10,
   "metadata": {
    "collapsed": true
   },
   "outputs": [],
   "source": [
    "poppy.attach_primitive(e1(poppy), 'e1')"
   ]
  },
  {
   "cell_type": "code",
   "execution_count": 11,
   "metadata": {
    "collapsed": false
   },
   "outputs": [],
   "source": [
    "class e2(Primitive):\n",
    "    properties = Primitive.properties + ['result']\n",
    "    def __init__(self, robot, result = 0):\n",
    "        Primitive.__init__(self, robot)\n",
    "        self.result = result\n",
    "    def run(self):\n",
    "        self.robot.goto_position({'l_arm_z' : -20, 'l_elbow_y' : -10, 'head_z' : 0, 'head_y': 20}, 0.2, wait=True) \n",
    "        self.robot.goto_position({'l_shoulder_y' : 5,'l_elbow_y' : 8}, 0.2, wait=True) \n",
    "        self.result = 0\n",
    "        if self.robot.l_elbow_y.present_load < 0:\n",
    "            self.result = 1\n",
    "        if self.robot.l_elbow_y.present_load < -50:\n",
    "            self.result = 2\n",
    "        if self.robot.l_elbow_y.present_load < -70:\n",
    "            self.result = 3\n",
    "        self.robot.goto_position({'l_elbow_y' : -20}, 1, wait=True) "
   ]
  },
  {
   "cell_type": "code",
   "execution_count": 12,
   "metadata": {
    "collapsed": false
   },
   "outputs": [],
   "source": [
    "poppy.attach_primitive(e2(poppy), 'e2')"
   ]
  },
  {
   "cell_type": "code",
   "execution_count": 13,
   "metadata": {
    "collapsed": false
   },
   "outputs": [
    {
     "data": {
      "text/plain": [
       "[<DxlMotor name=l_elbow_y id=44 pos=0.0>,\n",
       " <DxlMotor name=head_y id=37 pos=0.0>,\n",
       " <DxlMotor name=r_arm_z id=53 pos=-0.0>,\n",
       " <DxlMotor name=head_z id=36 pos=0.0>,\n",
       " <DxlMotor name=r_shoulder_x id=52 pos=0.0>,\n",
       " <DxlMotor name=r_shoulder_y id=51 pos=0.0>,\n",
       " <DxlMotor name=r_elbow_y id=54 pos=0.0>,\n",
       " <DxlMotor name=l_arm_z id=43 pos=-0.0>,\n",
       " <DxlMotor name=abs_z id=33 pos=0.0>,\n",
       " <DxlMotor name=bust_y id=34 pos=-0.0>,\n",
       " <DxlMotor name=bust_x id=35 pos=0.0>,\n",
       " <DxlMotor name=l_shoulder_x id=42 pos=0.0>,\n",
       " <DxlMotor name=l_shoulder_y id=41 pos=0.0>]"
      ]
     },
     "execution_count": 13,
     "metadata": {},
     "output_type": "execute_result"
    }
   ],
   "source": [
    "poppy.motors"
   ]
  },
  {
   "cell_type": "code",
   "execution_count": 16,
   "metadata": {
    "collapsed": false
   },
   "outputs": [],
   "source": [
    "poppy.e1.start()"
   ]
  },
  {
   "cell_type": "code",
   "execution_count": 321,
   "metadata": {
    "collapsed": true
   },
   "outputs": [],
   "source": [
    "poppy.e2.start()"
   ]
  },
  {
   "cell_type": "code",
   "execution_count": 13,
   "metadata": {
    "collapsed": false
   },
   "outputs": [],
   "source": [
    "class e3(Primitive):\n",
    "    properties = Primitive.properties + ['result']\n",
    "    def __init__(self, robot, result = 0):\n",
    "        Primitive.__init__(self, robot)\n",
    "        self.result = result\n",
    "    def run(self):\n",
    "        self.robot.goto_position({'l_arm_z' : 20, 'l_elbow_y' : -10, 'head_z' : 20, 'head_y': 20}, 0.2, wait=True) \n",
    "        self.robot.goto_position({'l_elbow_y' : 8}, 0.2, wait=True) \n",
    "        self.result = 0\n",
    "        if self.robot.l_elbow_y.present_load < 0:\n",
    "            self.result = 1\n",
    "        if self.robot.l_elbow_y.present_load < -30:\n",
    "            self.result = 2\n",
    "        if self.robot.l_elbow_y.present_load < -40:\n",
    "            self.result = 3\n",
    "        self.robot.goto_position({'l_elbow_y' : -20}, 1, wait=True) "
   ]
  },
  {
   "cell_type": "code",
   "execution_count": 14,
   "metadata": {
    "collapsed": true
   },
   "outputs": [],
   "source": [
    "poppy.attach_primitive(e3(poppy), 'e3')"
   ]
  },
  {
   "cell_type": "code",
   "execution_count": 17,
   "metadata": {
    "collapsed": false
   },
   "outputs": [],
   "source": [
    "poppy.e3.start()"
   ]
  },
  {
   "cell_type": "code",
   "execution_count": 289,
   "metadata": {
    "collapsed": false
   },
   "outputs": [
    {
     "data": {
      "text/plain": [
       "3"
      ]
     },
     "execution_count": 289,
     "metadata": {},
     "output_type": "execute_result"
    }
   ],
   "source": [
    "poppy.e3.result"
   ]
  },
  {
   "cell_type": "code",
   "execution_count": 385,
   "metadata": {
    "collapsed": false
   },
   "outputs": [
    {
     "data": {
      "text/plain": [
       "3"
      ]
     },
     "execution_count": 385,
     "metadata": {},
     "output_type": "execute_result"
    }
   ],
   "source": [
    "poppy.e1.result"
   ]
  },
  {
   "cell_type": "code",
   "execution_count": 322,
   "metadata": {
    "collapsed": false
   },
   "outputs": [
    {
     "data": {
      "text/plain": [
       "3"
      ]
     },
     "execution_count": 322,
     "metadata": {},
     "output_type": "execute_result"
    }
   ],
   "source": [
    "poppy.e2.result"
   ]
  },
  {
   "cell_type": "code",
   "execution_count": 382,
   "metadata": {
    "collapsed": true
   },
   "outputs": [],
   "source": [
    "poppy.goto_position({'r_elbow_y' : 8}, 0.2, wait=True) "
   ]
  },
  {
   "cell_type": "code",
   "execution_count": 383,
   "metadata": {
    "collapsed": false
   },
   "outputs": [
    {
     "data": {
      "text/plain": [
       "-9.785805940628052"
      ]
     },
     "execution_count": 383,
     "metadata": {},
     "output_type": "execute_result"
    }
   ],
   "source": [
    "poppy.r_elbow_y.present_load"
   ]
  },
  {
   "cell_type": "code",
   "execution_count": null,
   "metadata": {
    "collapsed": true
   },
   "outputs": [],
   "source": []
  }
 ],
 "metadata": {
  "kernelspec": {
   "display_name": "Python 3",
   "language": "python",
   "name": "python3"
  },
  "language_info": {
   "codemirror_mode": {
    "name": "ipython",
    "version": 3
   },
   "file_extension": ".py",
   "mimetype": "text/x-python",
   "name": "python",
   "nbconvert_exporter": "python",
   "pygments_lexer": "ipython3",
   "version": "3.6.0"
  }
 },
 "nbformat": 4,
 "nbformat_minor": 2
}
